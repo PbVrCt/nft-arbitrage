{
 "cells": [
  {
   "cell_type": "code",
   "execution_count": 1,
   "source": [
    "import pickle\r\n",
    "import random\r\n",
    "\r\n",
    "import pandas as pd\r\n",
    "import numpy as np\r\n",
    "\r\n",
    "df = pd.read_csv(\"..\\data\\\\full_engineered.csv\", index_col=[0])\r\n",
    "# print(df.head())\r\n",
    "features = df.iloc[:-3000].loc[:, df.columns != \"Price\"].to_numpy()\r\n",
    "labels = df.iloc[:-3000].loc[:, \"Price\"].to_numpy()\r\n",
    "test_features = df.iloc[-3000:].loc[:, df.columns != \"Price\"].to_numpy()\r\n",
    "test_labels = df.iloc[-3000:].loc[:, \"Price\"].to_numpy()"
   ],
   "outputs": [],
   "metadata": {}
  },
  {
   "cell_type": "markdown",
   "source": [
    "Random Forest"
   ],
   "metadata": {}
  },
  {
   "cell_type": "code",
   "execution_count": 31,
   "source": [
    "# Load the model\r\n",
    "with open('_lightGBM.pkl', 'rb') as f: # XGBOOST, KNN, lightGBM, tree, polynomial\r\n",
    "    model = pickle.load(f)\r\n",
    "\r\n",
    "n = random.randrange(0,100000)\r\n",
    "axie = features[n]\r\n",
    "price= labels[n]\r\n",
    "print(list(axie))\r\n",
    "print(price)\r\n",
    "print('Prediction: ',model.predict(axie.reshape(1,-1))[0])"
   ],
   "outputs": [
    {
     "output_type": "stream",
     "name": "stdout",
     "text": [
      "[3.0, 0.1875, 0.8716981132075472, 0.7333333333333334, 0.2380952380952381, 0.0, 0.0, 0.0, 0.0, 0.0, 0.0, 1.0, 0.0, 0.0, 0.0, 0.0, 0.0, 0.0, 0.0, 0.0, 0.0, 0.0, 0.0, 0.0, 0.0, 0.0, 0.0, 0.0, 0.0, 0.0, 0.0, 0.0, 0.0, 0.0, 0.0, 0.0, 0.0, 0.0, 0.0, 0.0, 0.0, 0.0, 0.0, 1.0, 0.0, 0.0, 0.0, 0.0, 0.0, 0.0, 0.0, 0.0, 0.0, 0.0, 0.0, 0.0, 0.0, 0.0, 0.0, 0.0, 0.0, 0.0, 0.0, 0.0, 0.0, 0.0, 0.0, 0.0, 0.0, 0.0, 0.0, 0.0, 1.0, 0.0, 0.0, 0.0, 0.0, 0.0, 0.0, 0.0, 0.0, 0.0, 0.0, 0.0, 0.0, 0.0, 0.0, 0.0, 0.0, 0.0, 0.0, 0.0, 0.0, 1.0, 0.0, 0.0, 0.0, 0.0, 0.0, 0.0, 0.0, 0.0, 0.0, 0.0, 0.0, 0.0, 0.0, 0.0, 0.0, 0.0, 0.0, 0.0, 0.0, 0.0, 0.0, 0.0, 0.0, 0.0, 1.0, 0.0, 0.0, 0.0, 0.0, 0.0, 0.0, 0.0, 0.0, 0.0, 0.0, 0.0, 0.0, 0.0, 0.0, 0.0, 0.0, 0.0, 0.0, 0.0, 0.0, 0.0, 0.0, 0.0, 0.0, 0.0, 0.0, 0.0, 0.0]\n",
      "184.98\n",
      "Prediction:  177.97921102355036\n"
     ]
    },
    {
     "output_type": "stream",
     "name": "stderr",
     "text": [
      "c:\\projects\\aws\\venv\\lib\\site-packages\\lightgbm\\basic.py:448: UserWarning: Usage of np.ndarray subset (sliced data) is not recommended due to it will double the peak memory cost in LightGBM.\n",
      "  _log_warning(\"Usage of np.ndarray subset (sliced data) is not recommended \"\n"
     ]
    }
   ],
   "metadata": {}
  }
 ],
 "metadata": {
  "orig_nbformat": 4,
  "language_info": {
   "name": "python",
   "version": "3.8.10",
   "mimetype": "text/x-python",
   "codemirror_mode": {
    "name": "ipython",
    "version": 3
   },
   "pygments_lexer": "ipython3",
   "nbconvert_exporter": "python",
   "file_extension": ".py"
  },
  "kernelspec": {
   "name": "python3",
   "display_name": "Python 3.8.10 64-bit ('venv': venv)"
  },
  "interpreter": {
   "hash": "7c13fb0347b60adcd474a811c9df209bcf6f636761ad04fac099312220478efe"
  }
 },
 "nbformat": 4,
 "nbformat_minor": 2
}