{
 "cells": [
  {
   "cell_type": "code",
   "execution_count": null,
   "source": [
    "import pandas as pd\r\n",
    "\r\n",
    "leaderboard = pd.read_csv('.\\leaderboard\\leaderboard.csv')\r\n",
    "# print(leaderboard.head())\r\n",
    "df=pd.read_json('axie_dataset_30_000.json')\r\n",
    "df.columns = ['Id','BreedCount','Pureness','Class','Eyes','Ears','Back','Mouth','Horn','Tail','Price']\r\n",
    "# print(df.head())\r\n"
   ],
   "outputs": [],
   "metadata": {}
  },
  {
   "cell_type": "code",
   "execution_count": null,
   "source": [
    "def assign_score(row, frecuencies, combo):\r\n",
    "  try:\r\n",
    "    return frecuencies[row[\"Class\"],row[combo]]\r\n",
    "  except KeyError:\r\n",
    "      return 0\r\n",
    "\r\n",
    "def card_score(df, leaderboard):\r\n",
    "  for part in ['Back','Mouth','Horn','Tail']:  \r\n",
    "      frecuencies = leaderboard.loc[:,['Class',part]].value_counts(normalize=True)\r\n",
    "      df.loc[:,f'{part}_score'] = df.apply( lambda df: assign_score(df,frecuencies,part), axis=1)\r\n",
    "card_score(df,leaderboard)\r\n",
    "df.head(10)"
   ],
   "outputs": [],
   "metadata": {}
  },
  {
   "cell_type": "code",
   "execution_count": null,
   "source": [
    "def combo_score(df, leaderboard):\r\n",
    "  for dtset in [df, leaderboard]:\r\n",
    "    dtset[\"Back-Mouth\"] =dtset[\"Back\"]+\"/\"+dtset[\"Mouth\"]\r\n",
    "    dtset[\"Back-Horn\"]  =dtset[\"Back\"]+\"/\"+dtset[\"Horn\"]\r\n",
    "    dtset[\"Back-Tail\"]  =dtset[\"Back\"]+\"/\"+dtset[\"Tail\"]\r\n",
    "    dtset[\"Mouth-Horn\"] =dtset[\"Mouth\"]+\"/\"+dtset[\"Horn\"]\r\n",
    "    dtset[\"Mouth-Tail\"] =dtset[\"Mouth\"]+\"/\"+dtset[\"Tail\"]\r\n",
    "    dtset[\"Horn-Tail\"]  =dtset[\"Horn\"]+\"/\"+dtset[\"Tail\"]\r\n",
    "  for combo in [\"Back-Mouth\",\"Back-Horn\",\"Back-Tail\",\"Mouth-Horn\",\"Mouth-Tail\",\"Horn-Tail\"]:  \r\n",
    "      frecuencies = leaderboard.loc[:,['Class',combo]].value_counts(normalize=True)\r\n",
    "      df.loc[:,f'{combo}_score'] = df.apply( lambda df: assign_score(df,frecuencies,combo), axis=1)\r\n",
    "      for dtset in [df, leaderboard]:\r\n",
    "        dtset.drop(combo,axis=1,inplace=True)\r\n",
    "combo_score(df, leaderboard)\r\n",
    "df.head()"
   ],
   "outputs": [],
   "metadata": {}
  },
  {
   "cell_type": "code",
   "execution_count": null,
   "source": [
    "def tricombo_score(df, leaderboard):\r\n",
    "  for dtset in [df, leaderboard]:\r\n",
    "    dtset[\"Back-Mouth-Horn\"] = dtset[\"Back\"] +\"/\"+dtset[\"Mouth\"]+\"/\"+dtset[\"Horn\"]\r\n",
    "    dtset[\"Back-Mouth-Tail\"] = dtset[\"Back\"] +\"/\"+dtset[\"Mouth\"]+\"/\"+dtset[\"Tail\"]\r\n",
    "    dtset[\"Back-Horn-Tail\"]  = dtset[\"Back\"] +\"/\"+dtset[\"Horn\"] +\"/\"+dtset[\"Tail\"]\r\n",
    "    dtset[\"Mouth-Horn-Tail\"] = dtset[\"Mouth\"]+\"/\"+dtset[\"Horn\"] +\"/\"+dtset[\"Tail\"]\r\n",
    "  for tricombo in [\"Back-Mouth-Horn\",\"Back-Mouth-Tail\",\"Back-Horn-Tail\",\"Mouth-Horn-Tail\"]:  \r\n",
    "        frecuencies = leaderboard.loc[:,['Class',tricombo]].value_counts(normalize=True)\r\n",
    "        df.loc[:,f'{tricombo}_score'] = df.apply( lambda df: assign_score(df,frecuencies,tricombo), axis=1)\r\n",
    "        for dtset in [df, leaderboard]:\r\n",
    "          dtset.drop(tricombo,axis=1,inplace=True)\r\n",
    "tricombo_score(df, leaderboard)\r\n",
    "df.head()"
   ],
   "outputs": [],
   "metadata": {}
  },
  {
   "cell_type": "code",
   "execution_count": null,
   "source": [
    "  def build_score(df, leaderboard):\r\n",
    "    for dtset in [df, leaderboard]:\r\n",
    "      dtset[\"Build\"] = dtset[\"Back\"]+\"/\"+dtset[\"Mouth\"]+\"/\"+dtset[\"Horn\"]+\"/\"+dtset[\"Tail\"] \r\n",
    "    frecuencies = leaderboard.loc[:,[\"Class\",\"Build\"]].value_counts(normalize=True)\r\n",
    "    df.loc[:,'Build_score'] = df.apply( lambda df: assign_score(df,frecuencies,'Build'), axis=1)\r\n",
    "    for dtset in [df, leaderboard]:\r\n",
    "      dtset.drop('Build',axis=1,inplace=True)\r\n",
    "build_score(df, leaderboard)\r\n",
    "df.head()\r\n"
   ],
   "outputs": [],
   "metadata": {}
  }
 ],
 "metadata": {
  "orig_nbformat": 4,
  "language_info": {
   "name": "python",
   "version": "3.8.10",
   "mimetype": "text/x-python",
   "codemirror_mode": {
    "name": "ipython",
    "version": 3
   },
   "pygments_lexer": "ipython3",
   "nbconvert_exporter": "python",
   "file_extension": ".py"
  },
  "kernelspec": {
   "name": "python3",
   "display_name": "Python 3.8.10 64-bit ('venv': venv)"
  },
  "interpreter": {
   "hash": "7c13fb0347b60adcd474a811c9df209bcf6f636761ad04fac099312220478efe"
  }
 },
 "nbformat": 4,
 "nbformat_minor": 2
}