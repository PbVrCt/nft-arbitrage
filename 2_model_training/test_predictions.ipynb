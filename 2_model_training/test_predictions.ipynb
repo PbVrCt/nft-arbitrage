{
 "cells": [
  {
   "cell_type": "code",
   "execution_count": 2,
   "source": [
    "import pickle\r\n",
    "import random\r\n",
    "\r\n",
    "import pandas as pd\r\n",
    "import numpy as np\r\n",
    "\r\n",
    "df = pd.read_csv(\"..\\data\\\\full_engineered.csv\", index_col=[0])\r\n",
    "features = df.iloc[:-3000].loc[:, df.columns != \"Price\"].to_numpy()\r\n",
    "labels = df.iloc[:-3000].loc[:, \"Price\"].to_numpy()\r\n",
    "test_features = df.loc[-3000:].loc[:, df.columns != \"Price\"].to_numpy()\r\n",
    "test_labels = df.loc[-3000:].loc[:, \"Price\"].to_numpy()"
   ],
   "outputs": [],
   "metadata": {}
  },
  {
   "cell_type": "markdown",
   "source": [
    "Random Forest"
   ],
   "metadata": {}
  },
  {
   "cell_type": "code",
   "execution_count": 17,
   "source": [
    "# Load the model\r\n",
    "with open('_RF.pkl', 'rb') as f: # RF, KNN, , tree, polynomial, SVM\r\n",
    "    model = pickle.load(f)\r\n",
    "\r\n",
    "n = random.randrange(0,3000)\r\n",
    "axie = features[n]\r\n",
    "price= labels[n]\r\n",
    "print(list(axie))\r\n",
    "print(price)\r\n",
    "print('Prediction: ',model.predict(axie.reshape(1,-1))[0])"
   ],
   "outputs": [
    {
     "output_type": "stream",
     "name": "stdout",
     "text": [
      "[0.0, 0.8, 0.0, 1.3080290817132922, 0.35]\n",
      "176.61\n",
      "Prediction:  197.2754505971771\n"
     ]
    }
   ],
   "metadata": {}
  }
 ],
 "metadata": {
  "orig_nbformat": 4,
  "language_info": {
   "name": "python",
   "version": "3.8.10",
   "mimetype": "text/x-python",
   "codemirror_mode": {
    "name": "ipython",
    "version": 3
   },
   "pygments_lexer": "ipython3",
   "nbconvert_exporter": "python",
   "file_extension": ".py"
  },
  "kernelspec": {
   "name": "python3",
   "display_name": "Python 3.8.10 64-bit ('venv': venv)"
  },
  "interpreter": {
   "hash": "7c13fb0347b60adcd474a811c9df209bcf6f636761ad04fac099312220478efe"
  }
 },
 "nbformat": 4,
 "nbformat_minor": 2
}