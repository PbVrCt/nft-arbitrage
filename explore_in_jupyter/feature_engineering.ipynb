{
 "cells": [
  {
   "cell_type": "markdown",
   "source": [
    "Check dataset row count"
   ],
   "metadata": {}
  },
  {
   "cell_type": "code",
   "execution_count": 17,
   "source": [
    "import pandas as pd\r\n",
    "\r\n",
    "df = pd.read_json(\"../data//full.json\")\r\n",
    "print(df.shape[0])\r\n",
    "df = pd.read_json(\"../data//2021-09-14//pureness2.json\")\r\n",
    "print(df.shape[0])\r\n",
    "print(df.head(-10))"
   ],
   "outputs": [
    {
     "output_type": "stream",
     "name": "stdout",
     "text": [
      "14744\n",
      "10000\n",
      "           Id  BreedCount  Pureness  Class       Eyes           Ears  \\\n",
      "0      715640           2         2    Bug      Clear          Lotus   \n",
      "1     3788301           2         2  Plant      Topaz        Inkling   \n",
      "2     1497560           2         2  Beast      Mavis         Pogona   \n",
      "3     5726772           1         2  Beast      Topaz           Nimo   \n",
      "4     1860143           3         2  Beast      Gecko    Peace Maker   \n",
      "...       ...         ...       ...    ...        ...            ...   \n",
      "9985  2684536           2         2    Bug     Chubby         Pogona   \n",
      "9986  2684955           2         2    Bug  Sleepless        Tassels   \n",
      "9987  2684989           2         2    Bug    Blossom        Tassels   \n",
      "9988  2681532           3         2    Bug      Clear        Inkling   \n",
      "9989  2679071           2         2    Bug     Chubby  Ear Breathing   \n",
      "\n",
      "              Back            Mouth        Horn         Tail   Price  \n",
      "0     Watering Can          Catfish     Lagging  Nut Cracker  152.91  \n",
      "1            Ronin   Toothless Bite   Wing Horn       Carrot  152.92  \n",
      "2           Hermit  Silence Whisper         Imp  Nut Cracker  153.24  \n",
      "3         Shiitake             Goda  Watermelon  Nut Cracker  153.24  \n",
      "4      Snail Shell  Silence Whisper         Imp      Cattail  153.24  \n",
      "...            ...              ...         ...          ...     ...  \n",
      "9985        Turnip        Herbivore  Dual Blade       Navaga  268.51  \n",
      "9986    Spiky Wing           Kotaro  Dual Blade  Feather Fan  268.51  \n",
      "9987       Red Ear        Axie Kiss       Merry   Post Fight  268.51  \n",
      "9988   Risky Beast      Tiny Turtle    Rose Bud    Tiny Dino  268.51  \n",
      "9989       Pumpkin          Serious     Incisor       Navaga  268.51  \n",
      "\n",
      "[9990 rows x 11 columns]\n"
     ]
    }
   ],
   "metadata": {}
  },
  {
   "cell_type": "markdown",
   "source": [
    "Feature engineering"
   ],
   "metadata": {}
  },
  {
   "cell_type": "code",
   "execution_count": null,
   "source": [
    "import pandas as pd\r\n",
    "\r\n",
    "leaderboard = pd.read_csv('..\\leaderboard\\leaderboard.csv')\r\n",
    "# print(leaderboard.head())\r\n",
    "df=pd.read_json('..\\data\\\\2021-09-13\\\\full.json')\r\n",
    "# print(df.head())\r\n"
   ],
   "outputs": [],
   "metadata": {}
  },
  {
   "cell_type": "code",
   "execution_count": null,
   "source": [
    "def assign_score(row, frecuencies, combo):\r\n",
    "  try:\r\n",
    "    return frecuencies[row[\"Class\"],row[combo]]\r\n",
    "  except KeyError:\r\n",
    "      return 0\r\n",
    "  \r\n",
    "def normalize(series):\r\n",
    "    return (series - series.min()) / (series.max() - series.min())\r\n",
    "\r\n",
    "def card_score(df, leaderboard):\r\n",
    "  for part in ['Back','Mouth','Horn','Tail']:  \r\n",
    "      frecuencies = normalize( leaderboard.loc[:,['Class',part]].value_counts() )\r\n",
    "      df.loc[:,f'{part}_score'] = df.apply( lambda df: assign_score(df,frecuencies,part), axis=1)\r\n",
    "card_score(df,leaderboard)\r\n",
    "df.head(10)"
   ],
   "outputs": [],
   "metadata": {}
  },
  {
   "cell_type": "code",
   "execution_count": null,
   "source": [
    "def combo_score(df, leaderboard):\r\n",
    "  for dtset in [df, leaderboard]:\r\n",
    "    dtset[\"Back-Mouth\"] =dtset[\"Back\"]+\"/\"+dtset[\"Mouth\"]\r\n",
    "    dtset[\"Back-Horn\"]  =dtset[\"Back\"]+\"/\"+dtset[\"Horn\"]\r\n",
    "    dtset[\"Back-Tail\"]  =dtset[\"Back\"]+\"/\"+dtset[\"Tail\"]\r\n",
    "    dtset[\"Mouth-Horn\"] =dtset[\"Mouth\"]+\"/\"+dtset[\"Horn\"]\r\n",
    "    dtset[\"Mouth-Tail\"] =dtset[\"Mouth\"]+\"/\"+dtset[\"Tail\"]\r\n",
    "    dtset[\"Horn-Tail\"]  =dtset[\"Horn\"]+\"/\"+dtset[\"Tail\"]\r\n",
    "  for combo in [\"Back-Mouth\",\"Back-Horn\",\"Back-Tail\",\"Mouth-Horn\",\"Mouth-Tail\",\"Horn-Tail\"]:  \r\n",
    "      frecuencies = normalize( leaderboard.loc[:,['Class',combo]].value_counts() )\r\n",
    "      df.loc[:,f'{combo}_score'] = df.apply( lambda df: assign_score(df,frecuencies,combo), axis=1)\r\n",
    "      for dtset in [df, leaderboard]:\r\n",
    "        dtset.drop(combo,axis=1,inplace=True)\r\n",
    "combo_score(df, leaderboard)\r\n",
    "df.head()"
   ],
   "outputs": [],
   "metadata": {}
  },
  {
   "cell_type": "code",
   "execution_count": null,
   "source": [
    "def tricombo_score(df, leaderboard):\r\n",
    "  for dtset in [df, leaderboard]:\r\n",
    "    dtset[\"Back-Mouth-Horn\"] = dtset[\"Back\"] +\"/\"+dtset[\"Mouth\"]+\"/\"+dtset[\"Horn\"]\r\n",
    "    dtset[\"Back-Mouth-Tail\"] = dtset[\"Back\"] +\"/\"+dtset[\"Mouth\"]+\"/\"+dtset[\"Tail\"]\r\n",
    "    dtset[\"Back-Horn-Tail\"]  = dtset[\"Back\"] +\"/\"+dtset[\"Horn\"] +\"/\"+dtset[\"Tail\"]\r\n",
    "    dtset[\"Mouth-Horn-Tail\"] = dtset[\"Mouth\"]+\"/\"+dtset[\"Horn\"] +\"/\"+dtset[\"Tail\"]\r\n",
    "  for tricombo in [\"Back-Mouth-Horn\",\"Back-Mouth-Tail\",\"Back-Horn-Tail\",\"Mouth-Horn-Tail\"]:  \r\n",
    "        frecuencies = normalize( leaderboard.loc[:,['Class',tricombo]].value_counts() )\r\n",
    "        df.loc[:,f'{tricombo}_score'] = df.apply( lambda df: assign_score(df,frecuencies,tricombo), axis=1)\r\n",
    "        for dtset in [df, leaderboard]:\r\n",
    "          dtset.drop(tricombo,axis=1,inplace=True)\r\n",
    "tricombo_score(df, leaderboard)\r\n",
    "df.head()"
   ],
   "outputs": [],
   "metadata": {}
  },
  {
   "cell_type": "code",
   "execution_count": null,
   "source": [
    "  def build_score(df, leaderboard):\r\n",
    "    for dtset in [df, leaderboard]:\r\n",
    "      dtset[\"Build\"] = dtset[\"Back\"]+\"/\"+dtset[\"Mouth\"]+\"/\"+dtset[\"Horn\"]+\"/\"+dtset[\"Tail\"] \r\n",
    "    frecuencies = normalize( leaderboard.loc[:,[\"Class\",\"Build\"]].value_counts() )\r\n",
    "    df.loc[:,'Build_score'] = df.apply( lambda df: assign_score(df,frecuencies,'Build'), axis=1)\r\n",
    "    for dtset in [df, leaderboard]:\r\n",
    "      dtset.drop('Build',axis=1,inplace=True)\r\n",
    "build_score(df, leaderboard)\r\n",
    "df.head()\r\n"
   ],
   "outputs": [],
   "metadata": {}
  }
 ],
 "metadata": {
  "orig_nbformat": 4,
  "language_info": {
   "name": "python",
   "version": "3.8.10",
   "mimetype": "text/x-python",
   "codemirror_mode": {
    "name": "ipython",
    "version": 3
   },
   "pygments_lexer": "ipython3",
   "nbconvert_exporter": "python",
   "file_extension": ".py"
  },
  "kernelspec": {
   "name": "python3",
   "display_name": "Python 3.8.10 64-bit ('venv': venv)"
  },
  "interpreter": {
   "hash": "7c13fb0347b60adcd474a811c9df209bcf6f636761ad04fac099312220478efe"
  }
 },
 "nbformat": 4,
 "nbformat_minor": 2
}