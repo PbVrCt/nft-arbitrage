{
 "cells": [
  {
   "cell_type": "code",
   "execution_count": null,
   "source": [
    "if 'NOTEBOOK_INITIATED_FLAG' not in globals():\r\n",
    "    NOTEBOOK_INITIATED_FLAG = True\r\n",
    "    %cd ..\r\n",
    "# %pwd\r\n",
    "\r\n",
    "from feature_engineering import feature_eng_steps"
   ],
   "outputs": [
    {
     "output_type": "stream",
     "name": "stdout",
     "text": [
      "c:\\projects\\aws\n"
     ]
    }
   ],
   "metadata": {}
  },
  {
   "cell_type": "code",
   "execution_count": 12,
   "source": [
    "import json\r\n",
    "import sys\r\n",
    "import time\r\n",
    "import pickle\r\n",
    "from collections import Counter\r\n",
    "\r\n",
    "import pandas as pd\r\n",
    "import requests\r\n",
    "\r\n",
    "url = \"https://axieinfinity.com/graphql-server-v2/graphql\""
   ],
   "outputs": [],
   "metadata": {}
  },
  {
   "cell_type": "markdown",
   "source": [
    "Query"
   ],
   "metadata": {}
  },
  {
   "cell_type": "code",
   "execution_count": 8,
   "source": [
    "query = \"\"\"\r\n",
    "query GetAxieBriefList($auctionType: AuctionType, $criteria: AxieSearchCriteria, $from: Int, $sort: SortBy, $size: Int, $owner: String) {\r\n",
    "  axies(auctionType: $auctionType, criteria: $criteria, from: $from, sort: $sort, size: $size, owner: $owner) {\r\n",
    "    results {\r\n",
    "      ...AxieBrief\r\n",
    "    }\r\n",
    "  }\r\n",
    "}\r\n",
    "\r\n",
    "fragment AxieBrief on Axie {\r\n",
    "  id\r\n",
    "  class\r\n",
    "  breedCount\r\n",
    "  image\r\n",
    "  auction {\r\n",
    "    currentPrice\r\n",
    "    currentPriceUSD\r\n",
    "  }\r\n",
    "  battleInfo {\r\n",
    "    banned\r\n",
    "  }\r\n",
    "  parts {\r\n",
    "    name\r\n",
    "    class\r\n",
    "    type\r\n",
    "    specialGenes\r\n",
    "  }\r\n",
    "}\r\n",
    "\"\"\"\r\n",
    "def variables(fromm):\r\n",
    "    return {\r\n",
    "        \"from\": fromm,\r\n",
    "        \"size\": 5,\r\n",
    "        \"sort\": \"PriceAsc\",\r\n",
    "        \"auctionType\": \"Sale\",\r\n",
    "        \"owner\": None,\r\n",
    "        \"criteria\": {\r\n",
    "            \"region\": None,\r\n",
    "            \"parts\": None,\r\n",
    "            \"bodyShapes\": None,\r\n",
    "            \"classes\": None,\r\n",
    "            \"stages\": None,\r\n",
    "            \"numMystic\": None,\r\n",
    "            \"pureness\": None,\r\n",
    "            \"title\": None,\r\n",
    "            \"breedable\": None,\r\n",
    "            \"breedCount\": None,\r\n",
    "            \"hp\": [],\r\n",
    "            \"skill\": [],\r\n",
    "            \"speed\": [],\r\n",
    "            \"morale\": [],\r\n",
    "        },\r\n",
    "    }"
   ],
   "outputs": [],
   "metadata": {}
  },
  {
   "cell_type": "markdown",
   "source": [
    "Filter to apply"
   ],
   "metadata": {}
  },
  {
   "cell_type": "code",
   "execution_count": 9,
   "source": [
    "with open('./model_training/_RF.pkl', 'rb') as f: # RF, KNN, , tree, polynomial, SVM\r\n",
    "    model = pickle.load(f)"
   ],
   "outputs": [],
   "metadata": {}
  },
  {
   "cell_type": "markdown",
   "source": [
    "Do the request and measure performance"
   ],
   "metadata": {}
  },
  {
   "cell_type": "code",
   "execution_count": 18,
   "source": [
    "start = time.time()\r\n",
    "request = requests.post(\r\n",
    "            url,\r\n",
    "            json={\"query\": query, \"variables\": variables(0)},\r\n",
    "            verify=False,\r\n",
    "        )\r\n",
    "end = time.time()\r\n",
    "print(\"Time elapsed request: \", end - start, \"s\")\r\n",
    "# Check the data retrieved\r\n",
    "if request.status_code == 200:\r\n",
    "    jsn_data = request.json()\r\n",
    "else:\r\n",
    "    raise Exception(f\"Unexpected status code returned: {request.status_code}\")\r\n",
    "jsn_data = request.json()[\"data\"][\"axies\"][\"results\"]\r\n",
    "jsn = []\r\n",
    "n_found = 0\r\n",
    "not_parsed_axies = 0\r\n",
    "if jsn_data:\r\n",
    "    for ax in jsn_data:\r\n",
    "        # print(json.dumps(ax, indent=4, sort_keys=True))\r\n",
    "        if ax[\"battleInfo\"][\"banned\"] == False:\r\n",
    "            try:\r\n",
    "                id_ = ax[\"id\"]\r\n",
    "                class_ = ax[\"class\"]\r\n",
    "                price = ax[\"auction\"][\"currentPriceUSD\"]\r\n",
    "                breedCount = ax[\"breedCount\"]\r\n",
    "                pureness = Counter(\r\n",
    "                    [\r\n",
    "                        ax[\"parts\"][0][\"class\"],\r\n",
    "                        ax[\"parts\"][1][\"class\"],\r\n",
    "                        ax[\"parts\"][2][\"class\"],\r\n",
    "                        ax[\"parts\"][3][\"class\"],\r\n",
    "                        ax[\"parts\"][4][\"class\"],\r\n",
    "                        ax[\"parts\"][5][\"class\"],\r\n",
    "                    ]\r\n",
    "                ).most_common(1)[0][1]\r\n",
    "                eyes = ax[\"parts\"][0][\"name\"]\r\n",
    "                ears = ax[\"parts\"][1][\"name\"]\r\n",
    "                back = ax[\"parts\"][2][\"name\"]\r\n",
    "                mouth = ax[\"parts\"][3][\"name\"]\r\n",
    "                horn = ax[\"parts\"][4][\"name\"]\r\n",
    "                tail = ax[\"parts\"][5][\"name\"]\r\n",
    "                axie_info = pd.DataFrame({\r\n",
    "                    \"Id\": id_,\r\n",
    "                    \"BreedCount\": breedCount,\r\n",
    "                    \"Pureness\": pureness,\r\n",
    "                    \"Class\": class_,\r\n",
    "                    \"Eyes\": eyes,\r\n",
    "                    \"Ears\": ears,\r\n",
    "                    \"Back\": back,\r\n",
    "                    \"Mouth\": mouth,\r\n",
    "                    \"Horn\": horn,\r\n",
    "                    \"Tail\": tail,\r\n",
    "                    \"Price\": price,\r\n",
    "                }, index=[0])\r\n",
    "                start = time.time()\r\n",
    "                axie_values = feature_eng_steps(axie_info)\r\n",
    "                end = time.time()\r\n",
    "                print(\"Time elapsed in feature engineering per axie: \", end - start, \"s\")\r\n",
    "                start = time.time()\r\n",
    "                price_prediction = model.predict(axie_values.reshape(1,-1))[0]\r\n",
    "                end = time.time()\r\n",
    "                print(\"Time elapsed in inference per axie: \", end - start, \"s\")\r\n",
    "            except:\r\n",
    "                not_parsed_axies += 1\r\n",
    "            else:\r\n",
    "                if ( \r\n",
    "                    ( price + 100 <  model.predict(axie_values.reshape(1,-1))[0] )\r\n",
    "                    and (price > 50)\r\n",
    "                    ) :\r\n",
    "                    print('Buy. Price: ',price,' Price prediction: ',price_prediction)\r\n",
    "                    n_found += 1\r\n",
    "                else:\r\n",
    "                    print('Dont buy. Price: ',price,' Price prediction: ',price_prediction)\r\n",
    "\r\n",
    "\r\n",
    "jsn = json.dumps(jsn, indent=2)\r\n",
    "print(\"Estimated size: \" + str(sys.getsizeof(jsn) / 1024) + \"KB\")\r\n",
    "print(f\"Axies failed to  parse: \",not_parsed_axies,\"/\",len(jsn_data) )\r\n",
    "print(f\"Amount of bargains: {n_found}\")\r\n",
    "# print(jsn)\r\n"
   ],
   "outputs": [
    {
     "output_type": "stream",
     "name": "stderr",
     "text": [
      "c:\\projects\\aws\\venv\\lib\\site-packages\\urllib3\\connectionpool.py:1013: InsecureRequestWarning: Unverified HTTPS request is being made to host 'axieinfinity.com'. Adding certificate verification is strongly advised. See: https://urllib3.readthedocs.io/en/1.26.x/advanced-usage.html#ssl-warnings\n",
      "  warnings.warn(\n"
     ]
    },
    {
     "output_type": "stream",
     "name": "stdout",
     "text": [
      "Time elapsed request:  2.0906362533569336 s\n",
      "Estimated size: 0.0498046875KB\n",
      "Axies failed to  parse:  100 / 100\n",
      "Amount of bargains: 0\n"
     ]
    }
   ],
   "metadata": {}
  }
 ],
 "metadata": {
  "orig_nbformat": 4,
  "language_info": {
   "name": "python",
   "version": "3.8.10",
   "mimetype": "text/x-python",
   "codemirror_mode": {
    "name": "ipython",
    "version": 3
   },
   "pygments_lexer": "ipython3",
   "nbconvert_exporter": "python",
   "file_extension": ".py"
  },
  "kernelspec": {
   "name": "python3",
   "display_name": "Python 3.8.10 64-bit ('venv': venv)"
  },
  "interpreter": {
   "hash": "7c13fb0347b60adcd474a811c9df209bcf6f636761ad04fac099312220478efe"
  }
 },
 "nbformat": 4,
 "nbformat_minor": 2
}